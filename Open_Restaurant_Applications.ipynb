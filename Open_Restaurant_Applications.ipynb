{
 "cells": [
  {
   "cell_type": "code",
   "execution_count": 3,
   "metadata": {},
   "outputs": [],
   "source": [
    "# Pandas - Data manipulation and analysis library\n",
    "import pandas as pd\n",
    "# NumPy - mathematical functions on multi-dimensional arrays and matrices\n",
    "import numpy as np\n",
    "\n",
    "from scipy import stats\n",
    "\n",
    "import seaborn as sns\n",
    "# Matplotlib - plotting library to create graphs and charts\n",
    "import matplotlib.pyplot as plt"
   ]
  },
  {
   "cell_type": "code",
   "execution_count": 5,
   "metadata": {},
   "outputs": [],
   "source": [
    "df_OPA= pd.read_csv(r'C:\\Users\\user\\OneDrive\\Desktop\\CIS 9660 Group Project\\Open_Restaurant_Applications.csv')"
   ]
  },
  {
   "cell_type": "code",
   "execution_count": 6,
   "metadata": {},
   "outputs": [
    {
     "data": {
      "text/plain": [
       "(12257, 35)"
      ]
     },
     "execution_count": 6,
     "metadata": {},
     "output_type": "execute_result"
    }
   ],
   "source": [
    "df_OPA.shape"
   ]
  },
  {
   "cell_type": "code",
   "execution_count": 7,
   "metadata": {},
   "outputs": [
    {
     "data": {
      "text/html": [
       "<div>\n",
       "<style scoped>\n",
       "    .dataframe tbody tr th:only-of-type {\n",
       "        vertical-align: middle;\n",
       "    }\n",
       "\n",
       "    .dataframe tbody tr th {\n",
       "        vertical-align: top;\n",
       "    }\n",
       "\n",
       "    .dataframe thead th {\n",
       "        text-align: right;\n",
       "    }\n",
       "</style>\n",
       "<table border=\"1\" class=\"dataframe\">\n",
       "  <thead>\n",
       "    <tr style=\"text-align: right;\">\n",
       "      <th></th>\n",
       "      <th>objectid</th>\n",
       "      <th>globalid</th>\n",
       "      <th>Seating Interest (Sidewalk/Roadway/Both)</th>\n",
       "      <th>Restaurant Name</th>\n",
       "      <th>Legal Business Name</th>\n",
       "      <th>Doing Business As (DBA)</th>\n",
       "      <th>Building Number</th>\n",
       "      <th>Street</th>\n",
       "      <th>Borough</th>\n",
       "      <th>Postcode</th>\n",
       "      <th>...</th>\n",
       "      <th>healthCompliance_terms</th>\n",
       "      <th>Time of Submission</th>\n",
       "      <th>Latitude</th>\n",
       "      <th>Longitude</th>\n",
       "      <th>Community Board</th>\n",
       "      <th>Council District</th>\n",
       "      <th>Census Tract</th>\n",
       "      <th>BIN</th>\n",
       "      <th>BBL</th>\n",
       "      <th>NTA</th>\n",
       "    </tr>\n",
       "  </thead>\n",
       "  <tbody>\n",
       "    <tr>\n",
       "      <th>0</th>\n",
       "      <td>12302</td>\n",
       "      <td>{F4FFE759-9440-444D-8301-D9674B698218}</td>\n",
       "      <td>roadway</td>\n",
       "      <td>HERE ARTS CENTER</td>\n",
       "      <td>HOME FOR CONTEMPORARY THEATRE AND ART, LTD</td>\n",
       "      <td>HERE ARTS CENTER</td>\n",
       "      <td>undefined</td>\n",
       "      <td>145 AVENUE OF THE AMERICAS</td>\n",
       "      <td>Manhattan</td>\n",
       "      <td>10013</td>\n",
       "      <td>...</td>\n",
       "      <td>yes</td>\n",
       "      <td>04/22/2021 02:47:00 PM</td>\n",
       "      <td>40.724971</td>\n",
       "      <td>-74.004477</td>\n",
       "      <td>2.0</td>\n",
       "      <td>3.0</td>\n",
       "      <td>37.0</td>\n",
       "      <td>1087061.0</td>\n",
       "      <td>1.004918e+09</td>\n",
       "      <td>SoHo-TriBeCa-Civic Center-Little Italy</td>\n",
       "    </tr>\n",
       "    <tr>\n",
       "      <th>1</th>\n",
       "      <td>12301</td>\n",
       "      <td>{58DD8DE5-3E9B-42A1-8259-1DFE769E6A63}</td>\n",
       "      <td>both</td>\n",
       "      <td>MEYHANE</td>\n",
       "      <td>DINAH CORP</td>\n",
       "      <td>MEYHANE</td>\n",
       "      <td>undefined</td>\n",
       "      <td>166 2 AVENUE</td>\n",
       "      <td>Manhattan</td>\n",
       "      <td>10003</td>\n",
       "      <td>...</td>\n",
       "      <td>yes</td>\n",
       "      <td>04/22/2021 02:41:00 PM</td>\n",
       "      <td>40.730073</td>\n",
       "      <td>-73.986585</td>\n",
       "      <td>3.0</td>\n",
       "      <td>2.0</td>\n",
       "      <td>40.0</td>\n",
       "      <td>1006434.0</td>\n",
       "      <td>1.004520e+09</td>\n",
       "      <td>East Village</td>\n",
       "    </tr>\n",
       "    <tr>\n",
       "      <th>2</th>\n",
       "      <td>10289</td>\n",
       "      <td>{096E1404-EBAE-48F5-8DDF-8ABD9D1F57D1}</td>\n",
       "      <td>both</td>\n",
       "      <td>Prince Laban&amp;Chinese restaurent</td>\n",
       "      <td>Renessa inc.</td>\n",
       "      <td>Prince Kababish &amp; Chinese restaurant</td>\n",
       "      <td>3756</td>\n",
       "      <td>74 street</td>\n",
       "      <td>Queens</td>\n",
       "      <td>11372</td>\n",
       "      <td>...</td>\n",
       "      <td>yes</td>\n",
       "      <td>08/15/2020 04:55:00 PM</td>\n",
       "      <td>40.747630</td>\n",
       "      <td>-73.891596</td>\n",
       "      <td>3.0</td>\n",
       "      <td>25.0</td>\n",
       "      <td>289.0</td>\n",
       "      <td>4029808.0</td>\n",
       "      <td>4.012840e+09</td>\n",
       "      <td>Jackson Heights</td>\n",
       "    </tr>\n",
       "    <tr>\n",
       "      <th>3</th>\n",
       "      <td>10274</td>\n",
       "      <td>{3B982638-4EB7-4BFE-8FA4-29F2DE80833B}</td>\n",
       "      <td>sidewalk</td>\n",
       "      <td>Philly Pretzel Factory</td>\n",
       "      <td>Snacking Made Easy LLC</td>\n",
       "      <td>Philly Pretzel Factory</td>\n",
       "      <td>131</td>\n",
       "      <td>5th Ave</td>\n",
       "      <td>Brooklyn</td>\n",
       "      <td>11217</td>\n",
       "      <td>...</td>\n",
       "      <td>yes</td>\n",
       "      <td>08/15/2020 09:58:00 AM</td>\n",
       "      <td>40.678651</td>\n",
       "      <td>-73.978934</td>\n",
       "      <td>6.0</td>\n",
       "      <td>39.0</td>\n",
       "      <td>131.0</td>\n",
       "      <td>3019193.0</td>\n",
       "      <td>3.009440e+09</td>\n",
       "      <td>Park Slope-Gowanus</td>\n",
       "    </tr>\n",
       "    <tr>\n",
       "      <th>4</th>\n",
       "      <td>10259</td>\n",
       "      <td>{2CBACAD1-49B6-4D8D-8F25-A3F415A9C586}</td>\n",
       "      <td>roadway</td>\n",
       "      <td>About Coffee</td>\n",
       "      <td>ABOUT COFFEE LLC</td>\n",
       "      <td>ABOUT COFFEE</td>\n",
       "      <td>71</td>\n",
       "      <td>SULLIVAN STREET</td>\n",
       "      <td>Manhattan</td>\n",
       "      <td>10012</td>\n",
       "      <td>...</td>\n",
       "      <td>yes</td>\n",
       "      <td>08/14/2020 05:08:00 PM</td>\n",
       "      <td>40.724625</td>\n",
       "      <td>-74.003889</td>\n",
       "      <td>2.0</td>\n",
       "      <td>3.0</td>\n",
       "      <td>47.0</td>\n",
       "      <td>1007347.0</td>\n",
       "      <td>1.004890e+09</td>\n",
       "      <td>SoHo-TriBeCa-Civic Center-Little Italy</td>\n",
       "    </tr>\n",
       "  </tbody>\n",
       "</table>\n",
       "<p>5 rows × 35 columns</p>\n",
       "</div>"
      ],
      "text/plain": [
       "   objectid                                globalid  \\\n",
       "0     12302  {F4FFE759-9440-444D-8301-D9674B698218}   \n",
       "1     12301  {58DD8DE5-3E9B-42A1-8259-1DFE769E6A63}   \n",
       "2     10289  {096E1404-EBAE-48F5-8DDF-8ABD9D1F57D1}   \n",
       "3     10274  {3B982638-4EB7-4BFE-8FA4-29F2DE80833B}   \n",
       "4     10259  {2CBACAD1-49B6-4D8D-8F25-A3F415A9C586}   \n",
       "\n",
       "  Seating Interest (Sidewalk/Roadway/Both)                  Restaurant Name  \\\n",
       "0                                  roadway                 HERE ARTS CENTER   \n",
       "1                                     both                          MEYHANE   \n",
       "2                                     both  Prince Laban&Chinese restaurent   \n",
       "3                                 sidewalk           Philly Pretzel Factory   \n",
       "4                                  roadway                     About Coffee   \n",
       "\n",
       "                          Legal Business Name  \\\n",
       "0  HOME FOR CONTEMPORARY THEATRE AND ART, LTD   \n",
       "1                                  DINAH CORP   \n",
       "2                                Renessa inc.   \n",
       "3                      Snacking Made Easy LLC   \n",
       "4                            ABOUT COFFEE LLC   \n",
       "\n",
       "                Doing Business As (DBA) Building Number  \\\n",
       "0                      HERE ARTS CENTER       undefined   \n",
       "1                               MEYHANE       undefined   \n",
       "2  Prince Kababish & Chinese restaurant            3756   \n",
       "3                Philly Pretzel Factory             131   \n",
       "4                          ABOUT COFFEE              71   \n",
       "\n",
       "                       Street    Borough  Postcode  ...  \\\n",
       "0  145 AVENUE OF THE AMERICAS  Manhattan     10013  ...   \n",
       "1                166 2 AVENUE  Manhattan     10003  ...   \n",
       "2                   74 street     Queens     11372  ...   \n",
       "3                     5th Ave   Brooklyn     11217  ...   \n",
       "4             SULLIVAN STREET  Manhattan     10012  ...   \n",
       "\n",
       "  healthCompliance_terms      Time of Submission   Latitude  Longitude  \\\n",
       "0                    yes  04/22/2021 02:47:00 PM  40.724971 -74.004477   \n",
       "1                    yes  04/22/2021 02:41:00 PM  40.730073 -73.986585   \n",
       "2                    yes  08/15/2020 04:55:00 PM  40.747630 -73.891596   \n",
       "3                    yes  08/15/2020 09:58:00 AM  40.678651 -73.978934   \n",
       "4                    yes  08/14/2020 05:08:00 PM  40.724625 -74.003889   \n",
       "\n",
       "  Community Board Council District  Census Tract        BIN           BBL  \\\n",
       "0             2.0              3.0          37.0  1087061.0  1.004918e+09   \n",
       "1             3.0              2.0          40.0  1006434.0  1.004520e+09   \n",
       "2             3.0             25.0         289.0  4029808.0  4.012840e+09   \n",
       "3             6.0             39.0         131.0  3019193.0  3.009440e+09   \n",
       "4             2.0              3.0          47.0  1007347.0  1.004890e+09   \n",
       "\n",
       "                                      NTA  \n",
       "0  SoHo-TriBeCa-Civic Center-Little Italy  \n",
       "1                            East Village  \n",
       "2                         Jackson Heights  \n",
       "3                      Park Slope-Gowanus  \n",
       "4  SoHo-TriBeCa-Civic Center-Little Italy  \n",
       "\n",
       "[5 rows x 35 columns]"
      ]
     },
     "execution_count": 7,
     "metadata": {},
     "output_type": "execute_result"
    }
   ],
   "source": [
    "df_OPA.head(5)"
   ]
  },
  {
   "cell_type": "code",
   "execution_count": 8,
   "metadata": {},
   "outputs": [
    {
     "data": {
      "text/plain": [
       "Index(['objectid', 'globalid', 'Seating Interest (Sidewalk/Roadway/Both)',\n",
       "       'Restaurant Name', 'Legal Business Name', 'Doing Business As (DBA)',\n",
       "       'Building Number', 'Street', 'Borough', 'Postcode', 'Business Address',\n",
       "       'Food Service Establishment Permit #', 'Sidewalk Dimensions (Length)',\n",
       "       'Sidewalk Dimensions (Width)', 'Sidewalk Dimensions (Area)',\n",
       "       'Roadway Dimensions (Length)', 'Roadway Dimensions (Width)',\n",
       "       'Roadway Dimensions (Area)', 'Approved for Sidewalk Seating',\n",
       "       'Approved for Roadway Seating', 'Qualify Alcohol', 'SLA Serial Number',\n",
       "       'SLA License Type', 'Landmark District or Building',\n",
       "       'landmarkDistrict_terms', 'healthCompliance_terms',\n",
       "       'Time of Submission', 'Latitude', 'Longitude', 'Community Board',\n",
       "       'Council District', 'Census Tract', 'BIN', 'BBL', 'NTA'],\n",
       "      dtype='object')"
      ]
     },
     "execution_count": 8,
     "metadata": {},
     "output_type": "execute_result"
    }
   ],
   "source": [
    "names=df_OPA.columns\n",
    "names"
   ]
  },
  {
   "cell_type": "code",
   "execution_count": 9,
   "metadata": {},
   "outputs": [
    {
     "data": {
      "text/plain": [
       "objectid                                        0\n",
       "globalid                                        0\n",
       "Seating Interest (Sidewalk/Roadway/Both)        0\n",
       "Restaurant Name                                 0\n",
       "Legal Business Name                             1\n",
       "Doing Business As (DBA)                        10\n",
       "Building Number                                 0\n",
       "Street                                          0\n",
       "Borough                                         0\n",
       "Postcode                                        0\n",
       "Business Address                                0\n",
       "Food Service Establishment Permit #             5\n",
       "Sidewalk Dimensions (Length)                 1858\n",
       "Sidewalk Dimensions (Width)                  1858\n",
       "Sidewalk Dimensions (Area)                   1858\n",
       "Roadway Dimensions (Length)                  4407\n",
       "Roadway Dimensions (Width)                   4407\n",
       "Roadway Dimensions (Area)                    4407\n",
       "Approved for Sidewalk Seating                   0\n",
       "Approved for Roadway Seating                    0\n",
       "Qualify Alcohol                                 0\n",
       "SLA Serial Number                            3901\n",
       "SLA License Type                             3901\n",
       "Landmark District or Building                   0\n",
       "landmarkDistrict_terms                      10426\n",
       "healthCompliance_terms                          0\n",
       "Time of Submission                              0\n",
       "Latitude                                     1290\n",
       "Longitude                                    1290\n",
       "Community Board                              1290\n",
       "Council District                             1290\n",
       "Census Tract                                 1290\n",
       "BIN                                          1368\n",
       "BBL                                          1368\n",
       "NTA                                          1290\n",
       "dtype: int64"
      ]
     },
     "execution_count": 9,
     "metadata": {},
     "output_type": "execute_result"
    }
   ],
   "source": [
    "df_OPA.isnull().sum() # Need data cleaning "
   ]
  },
  {
   "cell_type": "code",
   "execution_count": 10,
   "metadata": {},
   "outputs": [
    {
     "data": {
      "image/png": "[encoded data removed]",
      "text/plain": [
       "<Figure size 432x288 with 1 Axes>"
      ]
     },
     "metadata": {
      "needs_background": "light"
     },
     "output_type": "display_data"
    },
    {
     "data": {
      "text/plain": [
       "Manhattan        5939\n",
       "Brooklyn         2979\n",
       "Queens           2474\n",
       "Bronx             671\n",
       "Staten Island     194\n",
       "Name: Borough, dtype: int64"
      ]
     },
     "execution_count": 10,
     "metadata": {},
     "output_type": "execute_result"
    }
   ],
   "source": [
    "# restaurant in Borough \n",
    "df_OPA['Borough'].value_counts().plot(kind='bar')\n",
    "plt.show()\n",
    "region_restaurant_count=df_OPA['Borough'].value_counts()\n",
    "region_restaurant_count"
   ]
  },
  {
   "cell_type": "code",
   "execution_count": 11,
   "metadata": {},
   "outputs": [
    {
     "data": {
      "image/png": "[encoded data removed]",
      "text/plain": [
       "<Figure size 432x288 with 1 Axes>"
      ]
     },
     "metadata": {
      "needs_background": "light"
     },
     "output_type": "display_data"
    },
    {
     "data": {
      "text/plain": [
       "Manhattan        4882\n",
       "Brooklyn         2520\n",
       "Queens           2198\n",
       "Bronx             622\n",
       "Staten Island     177\n",
       "Name: Borough, dtype: int64"
      ]
     },
     "execution_count": 11,
     "metadata": {},
     "output_type": "execute_result"
    }
   ],
   "source": [
    "df_OPA[df_OPA[\"Approved for Sidewalk Seating\"]=='yes']['Borough'].value_counts().plot(kind='bar')\n",
    "plt.show()\n",
    "region_activity_count=df_OPA[df_OPA[\"Approved for Sidewalk Seating\"]=='yes']['Borough'].value_counts()\n",
    "region_activity_count"
   ]
  },
  {
   "cell_type": "code",
   "execution_count": 12,
   "metadata": {},
   "outputs": [
    {
     "data": {
      "image/png": "[encoded data removed]",
      "text/plain": [
       "<Figure size 432x288 with 1 Axes>"
      ]
     },
     "metadata": {
      "needs_background": "light"
     },
     "output_type": "display_data"
    },
    {
     "data": {
      "text/plain": [
       "Manhattan        3915\n",
       "Brooklyn         1908\n",
       "Queens           1547\n",
       "Bronx             386\n",
       "Staten Island      94\n",
       "Name: Borough, dtype: int64"
      ]
     },
     "execution_count": 12,
     "metadata": {},
     "output_type": "execute_result"
    }
   ],
   "source": [
    "df_OPA[df_OPA[\"Approved for Roadway Seating\"]=='yes']['Borough'].value_counts().plot(kind='bar')\n",
    "plt.show()\n",
    "region_activity_count=df_OPA[df_OPA[\"Approved for Roadway Seating\"]=='yes']['Borough'].value_counts()\n",
    "region_activity_count"
   ]
  },
  {
   "cell_type": "code",
   "execution_count": null,
   "metadata": {},
   "outputs": [],
   "source": []
  },
  {
   "cell_type": "code",
   "execution_count": 13,
   "metadata": {},
   "outputs": [
    {
     "data": {
      "image/png": "[encoded data removed]",
      "text/plain": [
       "<Figure size 432x288 with 1 Axes>"
      ]
     },
     "metadata": {
      "needs_background": "light"
     },
     "output_type": "display_data"
    },
    {
     "data": {
      "text/plain": [
       "Manhattan        1821\n",
       "Brooklyn          976\n",
       "Queens            877\n",
       "Bronx             274\n",
       "Staten Island      96\n",
       "Name: Borough, dtype: int64"
      ]
     },
     "execution_count": 13,
     "metadata": {},
     "output_type": "execute_result"
    }
   ],
   "source": [
    "# restaurant in sidewalk \n",
    "df_OPA[df_OPA[\"Seating Interest (Sidewalk/Roadway/Both)\"]=='sidewalk']['Borough'].value_counts().plot(kind='bar')\n",
    "plt.show()\n",
    "region_activity_count=df_OPA[df_OPA[\"Seating Interest (Sidewalk/Roadway/Both)\"]=='sidewalk']['Borough'].value_counts()\n",
    "region_activity_count"
   ]
  },
  {
   "cell_type": "code",
   "execution_count": 14,
   "metadata": {},
   "outputs": [
    {
     "data": {
      "image/png": "[encoded data removed]",
      "text/plain": [
       "<Figure size 432x288 with 1 Axes>"
      ]
     },
     "metadata": {
      "needs_background": "light"
     },
     "output_type": "display_data"
    },
    {
     "data": {
      "text/plain": [
       "Manhattan        854\n",
       "Brooklyn         364\n",
       "Queens           226\n",
       "Bronx             38\n",
       "Staten Island     13\n",
       "Name: Borough, dtype: int64"
      ]
     },
     "execution_count": 14,
     "metadata": {},
     "output_type": "execute_result"
    }
   ],
   "source": [
    "df_OPA[df_OPA[\"Seating Interest (Sidewalk/Roadway/Both)\"]=='roadway']['Borough'].value_counts().plot(kind='bar')\n",
    "plt.show()\n",
    "region_activity_count=df_OPA[df_OPA[\"Seating Interest (Sidewalk/Roadway/Both)\"]=='roadway']['Borough'].value_counts()\n",
    "region_activity_count"
   ]
  },
  {
   "cell_type": "code",
   "execution_count": 15,
   "metadata": {},
   "outputs": [
    {
     "data": {
      "image/png": "[encoded data removed]",
      "text/plain": [
       "<Figure size 432x288 with 1 Axes>"
      ]
     },
     "metadata": {
      "needs_background": "light"
     },
     "output_type": "display_data"
    },
    {
     "data": {
      "text/plain": [
       "Manhattan        3061\n",
       "Brooklyn         1544\n",
       "Queens           1321\n",
       "Bronx             348\n",
       "Staten Island      81\n",
       "Name: Borough, dtype: int64"
      ]
     },
     "execution_count": 15,
     "metadata": {},
     "output_type": "execute_result"
    }
   ],
   "source": [
    "df_OPA[df_OPA[\"Seating Interest (Sidewalk/Roadway/Both)\"]=='both']['Borough'].value_counts().plot(kind='bar')\n",
    "plt.show()\n",
    "region_activity_count=df_OPA[df_OPA[\"Seating Interest (Sidewalk/Roadway/Both)\"]=='both']['Borough'].value_counts()\n",
    "region_activity_count"
   ]
  },
  {
   "cell_type": "code",
   "execution_count": 16,
   "metadata": {},
   "outputs": [
    {
     "ename": "NameError",
     "evalue": "name 'df_RI' is not defined",
     "output_type": "error",
     "traceback": [
      "\u001b[1;31m---------------------------------------------------------------------------\u001b[0m",
      "\u001b[1;31mNameError\u001b[0m                                 Traceback (most recent call last)",
      "\u001b[1;32m<ipython-input-16-23712a78d08c>\u001b[0m in \u001b[0;36m<module>\u001b[1;34m\u001b[0m\n\u001b[1;32m----> 1\u001b[1;33m \u001b[0mdf_RI\u001b[0m\u001b[1;33m[\u001b[0m\u001b[1;34m'BOROUGH'\u001b[0m\u001b[1;33m]\u001b[0m\u001b[1;33m.\u001b[0m\u001b[0mvalue_counts\u001b[0m\u001b[1;33m(\u001b[0m\u001b[1;33m)\u001b[0m\u001b[1;33m.\u001b[0m\u001b[0mplot\u001b[0m\u001b[1;33m(\u001b[0m\u001b[0mkind\u001b[0m\u001b[1;33m=\u001b[0m\u001b[1;34m'bar'\u001b[0m\u001b[1;33m)\u001b[0m\u001b[1;33m\u001b[0m\u001b[1;33m\u001b[0m\u001b[0m\n\u001b[0m\u001b[0;32m      2\u001b[0m \u001b[0mplt\u001b[0m\u001b[1;33m.\u001b[0m\u001b[0mshow\u001b[0m\u001b[1;33m(\u001b[0m\u001b[1;33m)\u001b[0m\u001b[1;33m\u001b[0m\u001b[1;33m\u001b[0m\u001b[0m\n\u001b[0;32m      3\u001b[0m \u001b[0mregion_inspection_count\u001b[0m\u001b[1;33m=\u001b[0m\u001b[0mdf_RI\u001b[0m\u001b[1;33m[\u001b[0m\u001b[1;34m'BOROUGH'\u001b[0m\u001b[1;33m]\u001b[0m\u001b[1;33m.\u001b[0m\u001b[0mvalue_counts\u001b[0m\u001b[1;33m(\u001b[0m\u001b[1;33m)\u001b[0m\u001b[1;33m\u001b[0m\u001b[1;33m\u001b[0m\u001b[0m\n\u001b[0;32m      4\u001b[0m \u001b[0mregion_inspection_count\u001b[0m\u001b[1;33m\u001b[0m\u001b[1;33m\u001b[0m\u001b[0m\n",
      "\u001b[1;31mNameError\u001b[0m: name 'df_RI' is not defined"
     ]
    }
   ],
   "source": [
    "df_RI['BOROUGH'].value_counts().plot(kind='bar')\n",
    "plt.show()\n",
    "region_inspection_count=df_RI['BOROUGH'].value_counts()\n",
    "region_inspection_count"
   ]
  },
  {
   "cell_type": "code",
   "execution_count": 34,
   "metadata": {},
   "outputs": [
    {
     "data": {
      "text/plain": [
       "Manhattan        612621\n",
       "Bronx            572983\n",
       "Brooklyn         499545\n",
       "Queens           177067\n",
       "Staten Island     53889\n",
       "Name: BOROUGH, dtype: int64"
      ]
     },
     "execution_count": 34,
     "metadata": {},
     "output_type": "execute_result"
    }
   ],
   "source": [
    "region_inspection_count\n"
   ]
  },
  {
   "cell_type": "code",
   "execution_count": 36,
   "metadata": {},
   "outputs": [
    {
     "data": {
      "text/html": [
       "<div>\n",
       "<style scoped>\n",
       "    .dataframe tbody tr th:only-of-type {\n",
       "        vertical-align: middle;\n",
       "    }\n",
       "\n",
       "    .dataframe tbody tr th {\n",
       "        vertical-align: top;\n",
       "    }\n",
       "\n",
       "    .dataframe thead th {\n",
       "        text-align: right;\n",
       "    }\n",
       "</style>\n",
       "<table border=\"1\" class=\"dataframe\">\n",
       "  <thead>\n",
       "    <tr style=\"text-align: right;\">\n",
       "      <th></th>\n",
       "      <th>BOROUGH</th>\n",
       "      <th>Borough</th>\n",
       "    </tr>\n",
       "  </thead>\n",
       "  <tbody>\n",
       "    <tr>\n",
       "      <th>BOROUGH</th>\n",
       "      <td>1.000000</td>\n",
       "      <td>0.549723</td>\n",
       "    </tr>\n",
       "    <tr>\n",
       "      <th>Borough</th>\n",
       "      <td>0.549723</td>\n",
       "      <td>1.000000</td>\n",
       "    </tr>\n",
       "  </tbody>\n",
       "</table>\n",
       "</div>"
      ],
      "text/plain": [
       "          BOROUGH   Borough\n",
       "BOROUGH  1.000000  0.549723\n",
       "Borough  0.549723  1.000000"
      ]
     },
     "execution_count": 36,
     "metadata": {},
     "output_type": "execute_result"
    }
   ],
   "source": []
  },
  {
   "cell_type": "code",
   "execution_count": null,
   "metadata": {},
   "outputs": [],
   "source": []
  },
  {
   "cell_type": "code",
   "execution_count": null,
   "metadata": {},
   "outputs": [],
   "source": []
  },
  {
   "cell_type": "code",
   "execution_count": null,
   "metadata": {},
   "outputs": [],
   "source": []
  }
 ],
 "metadata": {
  "kernelspec": {
   "display_name": "Python 3",
   "language": "python",
   "name": "python3"
  },
  "language_info": {
   "codemirror_mode": {
    "name": "ipython",
    "version": 3
   },
   "file_extension": ".py",
   "mimetype": "text/x-python",
   "name": "python",
   "nbconvert_exporter": "python",
   "pygments_lexer": "ipython3",
   "version": "3.8.3"
  }
 },
 "nbformat": 4,
 "nbformat_minor": 4
}
